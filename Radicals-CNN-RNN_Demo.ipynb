{
 "cells": [
  {
   "cell_type": "code",
   "execution_count": 1,
   "metadata": {
    "collapsed": true
   },
   "outputs": [],
   "source": [
    "%matplotlib inline \n",
    "import torch\n",
    "import numpy\n",
    "import torch.nn.functional as F\n",
    "from nnClassifierModules import RNNSAClassifier\n",
    "from nnEncoderModules import Radical2WordCNN\n",
    "from preprocess import Vocab"
   ]
  },
  {
   "cell_type": "code",
   "execution_count": 2,
   "metadata": {
    "collapsed": true
   },
   "outputs": [],
   "source": [
    "data = [\n",
    "    ('動物ものを見つけると癒されるので嬉しくなっちゃうよね。', 1),\n",
    "    ('５００万本もの野生の水仙が風にそよぐ様は壮観。', 1),\n",
    "    ('あたたかいメッセージ、本当にありがとうございます！', 1),\n",
    "    ('いつもの商品と違った。', 0),\n",
    "    ('小さ過ぎて、返品しました。',0),\n",
    "    ('1年も使ってないのに、中の糸がほつれた。', 0),\n",
    "]"
   ]
  },
  {
   "cell_type": "code",
   "execution_count": 3,
   "metadata": {
    "collapsed": true
   },
   "outputs": [],
   "source": [
    "def variableFromSentence(indexes):\n",
    "    indexes.append('<eos>')\n",
    "    result = Variable(torch.LongTensor(indexes))\n",
    "    if use_cuda:\n",
    "        return result.cuda()\n",
    "    else:\n",
    "        return result"
   ]
  },
  {
   "cell_type": "code",
   "execution_count": 4,
   "metadata": {
    "collapsed": true
   },
   "outputs": [],
   "source": [
    "vocab = Vocab(data, max_character_length=8, expand=True, keep_unseen_CHISEinfo=True, char_padding=True)"
   ]
  },
  {
   "cell_type": "code",
   "execution_count": 5,
   "metadata": {},
   "outputs": [
    {
     "data": {
      "text/plain": [
       "Radical2WordCNN(\n",
       "  (radical_emb_lookup): Embedding(1188, 16)\n",
       "  (radical_level_filter1): Sequential(\n",
       "    (conv): Conv1d(16, 64, kernel_size=(1,), stride=(1,))\n",
       "    (activation): ReLU()\n",
       "    (maxpooling): MaxPool1d(kernel_size=32, stride=32, padding=0, dilation=1, ceil_mode=False)\n",
       "  )\n",
       "  (radical_level_filter2): Sequential(\n",
       "    (conv): Conv1d(16, 128, kernel_size=(2,), stride=(1,))\n",
       "    (activation): ReLU()\n",
       "    (maxpooling): MaxPool1d(kernel_size=31, stride=31, padding=0, dilation=1, ceil_mode=False)\n",
       "  )\n",
       "  (radical_level_filter3): Sequential(\n",
       "    (conv): Conv1d(16, 192, kernel_size=(3,), stride=(1,))\n",
       "    (activation): ReLU()\n",
       "    (maxpooling): MaxPool1d(kernel_size=30, stride=30, padding=0, dilation=1, ceil_mode=False)\n",
       "  )\n",
       "  (char_level_filter1): Sequential(\n",
       "    (conv): Conv1d(16, 64, kernel_size=(8,), stride=(8,))\n",
       "    (activation): ReLU()\n",
       "    (maxpooling): MaxPool1d(kernel_size=4, stride=4, padding=0, dilation=1, ceil_mode=False)\n",
       "  )\n",
       "  (char_level_filter2): Sequential(\n",
       "    (conv): Conv1d(16, 128, kernel_size=(16,), stride=(8,))\n",
       "    (activation): ReLU()\n",
       "    (maxpooling): MaxPool1d(kernel_size=3, stride=3, padding=0, dilation=1, ceil_mode=False)\n",
       "  )\n",
       "  (char_level_filter3): Sequential(\n",
       "    (conv): Conv1d(16, 192, kernel_size=(24,), stride=(8,))\n",
       "    (activation): ReLU()\n",
       "    (maxpooling): MaxPool1d(kernel_size=2, stride=2, padding=0, dilation=1, ceil_mode=False)\n",
       "  )\n",
       "  (highway): Highway(\n",
       "    (activation_affine): Linear(in_features=768, out_features=768, bias=True)\n",
       "    (gate_affine): Linear(in_features=768, out_features=768, bias=True)\n",
       "  )\n",
       ")"
      ]
     },
     "execution_count": 5,
     "metadata": {},
     "output_type": "execute_result"
    }
   ],
   "source": [
    "radical_vocab_size = len(vocab.radicals)\n",
    "radical_emb_dim = 16\n",
    "basic_filter_dim = 64\n",
    "max_word_length = 4\n",
    "max_sentence_length = 32\n",
    "max_character_length = vocab.max_character_length\n",
    "# build radical-level encoder for words. It output word vector by encoding radical embeddings.\n",
    "t_radicalCNN = Radical2WordCNN(radical_vocab_size, radical_emb_dim, basic_filter_dim, max_word_length, max_character_length)\n",
    "t_radicalCNN.cuda()"
   ]
  },
  {
   "cell_type": "code",
   "execution_count": 6,
   "metadata": {},
   "outputs": [
    {
     "data": {
      "text/plain": [
       "RNNSAClassifier(\n",
       "  (lstm): LSTM(768, 256)\n",
       "  (hidden2tag): Linear(in_features=256, out_features=2, bias=True)\n",
       "  (self_attention): SelfAttention(\n",
       "    (W): Linear(in_features=256, out_features=32, bias=True)\n",
       "    (u): Linear(in_features=256, out_features=256, bias=True)\n",
       "  )\n",
       ")"
      ]
     },
     "execution_count": 6,
     "metadata": {},
     "output_type": "execute_result"
    }
   ],
   "source": [
    "# Build a Word-level RNN\n",
    "t_RNNSAC = RNNSAClassifier(word_embedding_dim=768, hidden_dim=256, target_size=2, max_input_length=max_sentence_length)\n",
    "t_RNNSAC.cuda()"
   ]
  },
  {
   "cell_type": "code",
   "execution_count": 7,
   "metadata": {
    "collapsed": true
   },
   "outputs": [],
   "source": [
    "loss_function = torch.nn.NLLLoss().cuda()\n",
    "optimizer = torch.optim.RMSprop(list(t_radicalCNN.parameters()) + list(t_RNNSAC.parameters()))\n",
    "all_losses = []\n",
    "plot_every = 1\n",
    "current_loss = 0"
   ]
  },
  {
   "cell_type": "code",
   "execution_count": 8,
   "metadata": {},
   "outputs": [
    {
     "data": {
      "text/plain": [
       "[<matplotlib.lines.Line2D at 0x7f5915ef22e8>]"
      ]
     },
     "execution_count": 8,
     "metadata": {},
     "output_type": "execute_result"
    },
    {
     "data": {
      "image/png": "[encoded data removed]",
      "text/plain": [
       "<Figure size 432x288 with 1 Axes>"
      ]
     },
     "metadata": {},
     "output_type": "display_data"
    }
   ],
   "source": [
    "for epoch in range(10):\n",
    "    # training\n",
    "    for sentence, tag in data:\n",
    "        optimizer.zero_grad()\n",
    "        hidden = t_RNNSAC.init_hidden()\n",
    "        # note: expect hier sentence in which all word is a sub seq\n",
    "        words_input = torch.autograd.Variable(\n",
    "            torch.LongTensor(vocab.sen2wr(sentence, max_sentence_length=max_sentence_length,max_word_length=max_word_length, hier=True)).cuda())\n",
    "        words_feature = t_radicalCNN(words_input)\n",
    "        target = torch.autograd.Variable(torch.LongTensor([tag]).cuda())\n",
    "        tag_scores, _ = t_RNNSAC(words_feature, hidden)\n",
    "        tag_scores = F.log_softmax(tag_scores, 0)\n",
    "        loss = loss_function(tag_scores.unsqueeze(0), target)\n",
    "        loss.backward()\n",
    "        optimizer.step()\n",
    "\n",
    "    # Validation\n",
    "    for sentence, tag in data:\n",
    "        t_RNNSAC.zero_grad()\n",
    "        hidden = t_RNNSAC.init_hidden()\n",
    "        words_input = torch.autograd.Variable(\n",
    "            torch.LongTensor(vocab.sen2wr(sentence, max_sentence_length=max_sentence_length,max_word_length=max_word_length, hier=True)).cuda())\n",
    "        words_feature = t_radicalCNN(words_input)\n",
    "        target = torch.autograd.Variable(torch.LongTensor([tag]).cuda())\n",
    "        tag_scores, _ = t_RNNSAC(words_feature, hidden)\n",
    "        tag_scores = F.log_softmax(tag_scores, 0)\n",
    "        loss = loss_function(tag_scores.unsqueeze(0), target)\n",
    "        current_loss += loss.data.cpu().numpy()\n",
    "    # for plotting loss\n",
    "    current_loss += loss.data.cpu().numpy()\n",
    "    if epoch % plot_every == 0:\n",
    "        all_losses.append(current_loss / (plot_every * len(data)))\n",
    "        current_loss = 0\n",
    "        \n",
    "import matplotlib.pyplot as plt\n",
    "import matplotlib.ticker as ticker\n",
    "\n",
    "plt.figure()\n",
    "plt.plot(all_losses)"
   ]
  },
  {
   "cell_type": "code",
   "execution_count": null,
   "metadata": {
    "collapsed": true
   },
   "outputs": [],
   "source": []
  }
 ],
 "metadata": {
  "kernelspec": {
   "display_name": "Python (pytorch0.4)",
   "language": "python",
   "name": "pytorch04"
  },
  "language_info": {
   "codemirror_mode": {
    "name": "ipython",
    "version": 3
   },
   "file_extension": ".py",
   "mimetype": "text/x-python",
   "name": "python",
   "nbconvert_exporter": "python",
   "pygments_lexer": "ipython3",
   "version": "3.6.2"
  }
 },
 "nbformat": 4,
 "nbformat_minor": 1
}
