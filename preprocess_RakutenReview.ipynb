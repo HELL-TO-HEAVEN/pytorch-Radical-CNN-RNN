{
 "cells": [
  {
   "cell_type": "code",
   "execution_count": null,
   "metadata": {},
   "outputs": [],
   "source": [
    "import dataset\n",
    "import preprocess\n",
    "\"\"\"\n",
    "把raw data做基本的大小写转换和strip处理，留下review和评分，各以一行一条的格式保存以便后续处理\n",
    "后续随机读取一个文本文件的某些行可以用linecache\n",
    "\"\"\"\n",
    "data_iterator = dataset.RakutenReviewRaw('/media/yuanzhike/D4B8C1ADB8C18E84/楽天データ/ichiba/review/')\n",
    "score_file = open('review_score.data', 'w')\n",
    "review_file = open('review_text.data', 'w')\n",
    "for n_line, line in enumerate(data_iterator):\n",
    "    if n_line > 0 and n_line%1000==0:\n",
    "        score_file.flush()\n",
    "        review_file.flush()\n",
    "    review_score = line.split(\"\\t\")[13]\n",
    "    review_text = line.split(\"\\t\")[15]\n",
    "    review_text = preprocess.basic_preprocess(review_text)\n",
    "    score_file.writelines([review_score.strip()])\n",
    "    review_file.writelines([review_text.strip()])"
   ]
  },
  {
   "cell_type": "code",
   "execution_count": null,
   "metadata": {},
   "outputs": [],
   "source": []
  }
 ],
 "metadata": {
  "kernelspec": {
   "display_name": "Python [conda env:pytorch04]",
   "language": "python",
   "name": "conda-env-pytorch04-py"
  },
  "language_info": {
   "codemirror_mode": {
    "name": "ipython",
    "version": 3
   },
   "file_extension": ".py",
   "mimetype": "text/x-python",
   "name": "python",
   "nbconvert_exporter": "python",
   "pygments_lexer": "ipython3",
   "version": "3.6.4"
  }
 },
 "nbformat": 4,
 "nbformat_minor": 1
}
